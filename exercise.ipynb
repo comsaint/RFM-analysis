{
 "cells": [
  {
   "cell_type": "code",
   "execution_count": 3,
   "metadata": {
    "collapsed": true
   },
   "outputs": [],
   "source": [
    "import pandas as pd"
   ]
  },
  {
   "cell_type": "code",
   "execution_count": 4,
   "outputs": [
    {
     "data": {
      "text/plain": "  order_date        order_id          customer  grand_total\n0 2011-09-07  CA-2011-100006       Dennis Kane          378\n1 2011-07-08  CA-2011-100090        Ed Braxton          699\n2 2011-03-14  CA-2011-100293  Neil Franzsisch           91\n3 2011-01-29  CA-2011-100328   Jasper Cacioppo            4\n4 2011-04-08  CA-2011-100363       Jim Mitchum           21",
      "text/html": "<div>\n<style scoped>\n    .dataframe tbody tr th:only-of-type {\n        vertical-align: middle;\n    }\n\n    .dataframe tbody tr th {\n        vertical-align: top;\n    }\n\n    .dataframe thead th {\n        text-align: right;\n    }\n</style>\n<table border=\"1\" class=\"dataframe\">\n  <thead>\n    <tr style=\"text-align: right;\">\n      <th></th>\n      <th>order_date</th>\n      <th>order_id</th>\n      <th>customer</th>\n      <th>grand_total</th>\n    </tr>\n  </thead>\n  <tbody>\n    <tr>\n      <th>0</th>\n      <td>2011-09-07</td>\n      <td>CA-2011-100006</td>\n      <td>Dennis Kane</td>\n      <td>378</td>\n    </tr>\n    <tr>\n      <th>1</th>\n      <td>2011-07-08</td>\n      <td>CA-2011-100090</td>\n      <td>Ed Braxton</td>\n      <td>699</td>\n    </tr>\n    <tr>\n      <th>2</th>\n      <td>2011-03-14</td>\n      <td>CA-2011-100293</td>\n      <td>Neil Franzsisch</td>\n      <td>91</td>\n    </tr>\n    <tr>\n      <th>3</th>\n      <td>2011-01-29</td>\n      <td>CA-2011-100328</td>\n      <td>Jasper Cacioppo</td>\n      <td>4</td>\n    </tr>\n    <tr>\n      <th>4</th>\n      <td>2011-04-08</td>\n      <td>CA-2011-100363</td>\n      <td>Jim Mitchum</td>\n      <td>21</td>\n    </tr>\n  </tbody>\n</table>\n</div>"
     },
     "execution_count": 4,
     "metadata": {},
     "output_type": "execute_result"
    }
   ],
   "source": [
    "# Read data\n",
    "df = pd.read_csv(\"sample-orders.csv\", encoding='ISO-8859-1', parse_dates=['order_date'])\n",
    "df.head()"
   ],
   "metadata": {
    "collapsed": false,
    "pycharm": {
     "name": "#%%\n"
    }
   }
  },
  {
   "cell_type": "code",
   "execution_count": 7,
   "outputs": [
    {
     "data": {
      "text/plain": "order_date     datetime64[ns]\norder_id               object\ncustomer               object\ngrand_total             int64\ndtype: object"
     },
     "execution_count": 7,
     "metadata": {},
     "output_type": "execute_result"
    }
   ],
   "source": [
    "df.dtypes"
   ],
   "metadata": {
    "collapsed": false,
    "pycharm": {
     "name": "#%%\n"
    }
   }
  },
  {
   "cell_type": "code",
   "execution_count": 8,
   "outputs": [
    {
     "name": "stdout",
     "output_type": "stream",
     "text": [
      "Total # transactions: 5009\n",
      "# Unique customers: 793\n",
      "Total transaction amount: $2297261\n",
      "Period covers: 2011-01-04 00:00:00 to 2014-12-31 00:00:00\n"
     ]
    }
   ],
   "source": [
    "# some basic statistics of the data set\n",
    "print(f\"Total # transactions: {df.shape[0]}\")\n",
    "print(f\"# Unique customers: {df['customer'].nunique()}\")\n",
    "print(f\"Total transaction amount: ${df['grand_total'].sum()}\")\n",
    "print(f\"Period covers: {min(df.order_date)} to {max(df.order_date)}\")\n"
   ],
   "metadata": {
    "collapsed": false,
    "pycharm": {
     "name": "#%%\n"
    }
   }
  },
  {
   "cell_type": "code",
   "execution_count": 9,
   "outputs": [
    {
     "data": {
      "text/plain": "                 order_date        order_id    customer   grand_total\ncount                  5009            5009        5009   5009.000000\nunique                 1238            5009         793           NaN\ntop     2013-09-06 00:00:00  CA-2014-152205  Emily Phan           NaN\nfreq                     19               1          17           NaN\nfirst   2011-01-04 00:00:00             NaN         NaN           NaN\nlast    2014-12-31 00:00:00             NaN         NaN           NaN\nmean                    NaN             NaN         NaN    458.626672\nstd                     NaN             NaN         NaN    954.729307\nmin                     NaN             NaN         NaN      1.000000\n25%                     NaN             NaN         NaN     38.000000\n50%                     NaN             NaN         NaN    152.000000\n75%                     NaN             NaN         NaN    512.000000\nmax                     NaN             NaN         NaN  23661.000000",
      "text/html": "<div>\n<style scoped>\n    .dataframe tbody tr th:only-of-type {\n        vertical-align: middle;\n    }\n\n    .dataframe tbody tr th {\n        vertical-align: top;\n    }\n\n    .dataframe thead th {\n        text-align: right;\n    }\n</style>\n<table border=\"1\" class=\"dataframe\">\n  <thead>\n    <tr style=\"text-align: right;\">\n      <th></th>\n      <th>order_date</th>\n      <th>order_id</th>\n      <th>customer</th>\n      <th>grand_total</th>\n    </tr>\n  </thead>\n  <tbody>\n    <tr>\n      <th>count</th>\n      <td>5009</td>\n      <td>5009</td>\n      <td>5009</td>\n      <td>5009.000000</td>\n    </tr>\n    <tr>\n      <th>unique</th>\n      <td>1238</td>\n      <td>5009</td>\n      <td>793</td>\n      <td>NaN</td>\n    </tr>\n    <tr>\n      <th>top</th>\n      <td>2013-09-06 00:00:00</td>\n      <td>CA-2014-152205</td>\n      <td>Emily Phan</td>\n      <td>NaN</td>\n    </tr>\n    <tr>\n      <th>freq</th>\n      <td>19</td>\n      <td>1</td>\n      <td>17</td>\n      <td>NaN</td>\n    </tr>\n    <tr>\n      <th>first</th>\n      <td>2011-01-04 00:00:00</td>\n      <td>NaN</td>\n      <td>NaN</td>\n      <td>NaN</td>\n    </tr>\n    <tr>\n      <th>last</th>\n      <td>2014-12-31 00:00:00</td>\n      <td>NaN</td>\n      <td>NaN</td>\n      <td>NaN</td>\n    </tr>\n    <tr>\n      <th>mean</th>\n      <td>NaN</td>\n      <td>NaN</td>\n      <td>NaN</td>\n      <td>458.626672</td>\n    </tr>\n    <tr>\n      <th>std</th>\n      <td>NaN</td>\n      <td>NaN</td>\n      <td>NaN</td>\n      <td>954.729307</td>\n    </tr>\n    <tr>\n      <th>min</th>\n      <td>NaN</td>\n      <td>NaN</td>\n      <td>NaN</td>\n      <td>1.000000</td>\n    </tr>\n    <tr>\n      <th>25%</th>\n      <td>NaN</td>\n      <td>NaN</td>\n      <td>NaN</td>\n      <td>38.000000</td>\n    </tr>\n    <tr>\n      <th>50%</th>\n      <td>NaN</td>\n      <td>NaN</td>\n      <td>NaN</td>\n      <td>152.000000</td>\n    </tr>\n    <tr>\n      <th>75%</th>\n      <td>NaN</td>\n      <td>NaN</td>\n      <td>NaN</td>\n      <td>512.000000</td>\n    </tr>\n    <tr>\n      <th>max</th>\n      <td>NaN</td>\n      <td>NaN</td>\n      <td>NaN</td>\n      <td>23661.000000</td>\n    </tr>\n  </tbody>\n</table>\n</div>"
     },
     "execution_count": 9,
     "metadata": {},
     "output_type": "execute_result"
    }
   ],
   "source": [
    "df.describe(include='all')"
   ],
   "metadata": {
    "collapsed": false,
    "pycharm": {
     "name": "#%%\n"
    }
   }
  },
  {
   "cell_type": "code",
   "execution_count": 33,
   "outputs": [
    {
     "data": {
      "text/plain": "<matplotlib.axes._subplots.AxesSubplot at 0xdd32b48>"
     },
     "execution_count": 33,
     "metadata": {},
     "output_type": "execute_result"
    },
    {
     "data": {
      "text/plain": "<Figure size 432x288 with 1 Axes>",
      "image/png": "[encoded data removed]"
     },
     "metadata": {
      "needs_background": "light"
     },
     "output_type": "display_data"
    }
   ],
   "source": [
    "# basic plots\n",
    "\n",
    "# transactions over time\n",
    "df_trx = df.groupby('order_date').agg({'grand_total':sum})\n",
    "df_trx.plot()"
   ],
   "metadata": {
    "collapsed": false,
    "pycharm": {
     "name": "#%%\n"
    }
   }
  },
  {
   "cell_type": "code",
   "execution_count": 10,
   "outputs": [
    {
     "data": {
      "text/plain": "<matplotlib.axes._subplots.AxesSubplot at 0x92b0888>"
     },
     "execution_count": 10,
     "metadata": {},
     "output_type": "execute_result"
    },
    {
     "data": {
      "text/plain": "<Figure size 432x288 with 1 Axes>",
      "image/png": "[encoded data removed]"
     },
     "metadata": {
      "needs_background": "light"
     },
     "output_type": "display_data"
    }
   ],
   "source": [
    "# Top 10 customers by value\n",
    "df.groupby('customer').agg({'grand_total': sum}).nlargest(10, columns='grand_total').plot.bar()"
   ],
   "metadata": {
    "collapsed": false,
    "pycharm": {
     "name": "#%%\n"
    }
   }
  },
  {
   "cell_type": "code",
   "execution_count": 11,
   "outputs": [
    {
     "data": {
      "text/plain": "array([[<matplotlib.axes._subplots.AxesSubplot object at 0x000000000910D3C8>]],\n      dtype=object)"
     },
     "execution_count": 11,
     "metadata": {},
     "output_type": "execute_result"
    },
    {
     "data": {
      "text/plain": "<Figure size 432x288 with 1 Axes>",
      "image/png": "[encoded data removed]"
     },
     "metadata": {
      "needs_background": "light"
     },
     "output_type": "display_data"
    }
   ],
   "source": [
    "# Histogram of customer's order value\n",
    "df.groupby('customer').agg({'grand_total': sum}).hist(bins=10, log=True)"
   ],
   "metadata": {
    "collapsed": false,
    "pycharm": {
     "name": "#%%\n"
    }
   }
  },
  {
   "cell_type": "code",
   "execution_count": 12,
   "outputs": [
    {
     "data": {
      "text/plain": "                   R   F     M\ncustomer                      \nAaron Bergman    416   3   887\nAaron Hawkins     13   7  1744\nAaron Smayling    89   7  3050\nAdam Bellavance   55   8  7756\nAdam Hart         35  10  3249",
      "text/html": "<div>\n<style scoped>\n    .dataframe tbody tr th:only-of-type {\n        vertical-align: middle;\n    }\n\n    .dataframe tbody tr th {\n        vertical-align: top;\n    }\n\n    .dataframe thead th {\n        text-align: right;\n    }\n</style>\n<table border=\"1\" class=\"dataframe\">\n  <thead>\n    <tr style=\"text-align: right;\">\n      <th></th>\n      <th>R</th>\n      <th>F</th>\n      <th>M</th>\n    </tr>\n    <tr>\n      <th>customer</th>\n      <th></th>\n      <th></th>\n      <th></th>\n    </tr>\n  </thead>\n  <tbody>\n    <tr>\n      <th>Aaron Bergman</th>\n      <td>416</td>\n      <td>3</td>\n      <td>887</td>\n    </tr>\n    <tr>\n      <th>Aaron Hawkins</th>\n      <td>13</td>\n      <td>7</td>\n      <td>1744</td>\n    </tr>\n    <tr>\n      <th>Aaron Smayling</th>\n      <td>89</td>\n      <td>7</td>\n      <td>3050</td>\n    </tr>\n    <tr>\n      <th>Adam Bellavance</th>\n      <td>55</td>\n      <td>8</td>\n      <td>7756</td>\n    </tr>\n    <tr>\n      <th>Adam Hart</th>\n      <td>35</td>\n      <td>10</td>\n      <td>3249</td>\n    </tr>\n  </tbody>\n</table>\n</div>"
     },
     "execution_count": 12,
     "metadata": {},
     "output_type": "execute_result"
    }
   ],
   "source": [
    "# Compute R, F and M\n",
    "# for each dimension, we divide customers into 4 quartiles\n",
    "from datetime import timedelta\n",
    "TODAY = max(df['order_date']) + timedelta(days=1)\n",
    "\n",
    "df_customers = df.groupby('customer').agg(\n",
    "    #min_order_date = ('order_date', min),\n",
    "    #max_order_date = ('order_date', max),\n",
    "    R = (\"order_date\", lambda x: (TODAY - max(x)).days),\n",
    "    F = (\"order_id\", 'count'),\n",
    "    M = ('grand_total', sum),\n",
    ")\n",
    "df_customers.head()"
   ],
   "metadata": {
    "collapsed": false,
    "pycharm": {
     "name": "#%%\n"
    }
   }
  },
  {
   "cell_type": "code",
   "execution_count": 13,
   "outputs": [
    {
     "data": {
      "text/plain": "                 R           F             M\ncount   793.000000  793.000000    793.000000\nmean    147.805801    6.316520   2896.924338\nstd     186.231107    2.550885   2628.660490\nmin       1.000000    1.000000      5.000000\n25%      31.000000    5.000000   1145.000000\n50%      76.000000    6.000000   2257.000000\n75%     184.000000    8.000000   3784.000000\nmax    1167.000000   17.000000  25042.000000",
      "text/html": "<div>\n<style scoped>\n    .dataframe tbody tr th:only-of-type {\n        vertical-align: middle;\n    }\n\n    .dataframe tbody tr th {\n        vertical-align: top;\n    }\n\n    .dataframe thead th {\n        text-align: right;\n    }\n</style>\n<table border=\"1\" class=\"dataframe\">\n  <thead>\n    <tr style=\"text-align: right;\">\n      <th></th>\n      <th>R</th>\n      <th>F</th>\n      <th>M</th>\n    </tr>\n  </thead>\n  <tbody>\n    <tr>\n      <th>count</th>\n      <td>793.000000</td>\n      <td>793.000000</td>\n      <td>793.000000</td>\n    </tr>\n    <tr>\n      <th>mean</th>\n      <td>147.805801</td>\n      <td>6.316520</td>\n      <td>2896.924338</td>\n    </tr>\n    <tr>\n      <th>std</th>\n      <td>186.231107</td>\n      <td>2.550885</td>\n      <td>2628.660490</td>\n    </tr>\n    <tr>\n      <th>min</th>\n      <td>1.000000</td>\n      <td>1.000000</td>\n      <td>5.000000</td>\n    </tr>\n    <tr>\n      <th>25%</th>\n      <td>31.000000</td>\n      <td>5.000000</td>\n      <td>1145.000000</td>\n    </tr>\n    <tr>\n      <th>50%</th>\n      <td>76.000000</td>\n      <td>6.000000</td>\n      <td>2257.000000</td>\n    </tr>\n    <tr>\n      <th>75%</th>\n      <td>184.000000</td>\n      <td>8.000000</td>\n      <td>3784.000000</td>\n    </tr>\n    <tr>\n      <th>max</th>\n      <td>1167.000000</td>\n      <td>17.000000</td>\n      <td>25042.000000</td>\n    </tr>\n  </tbody>\n</table>\n</div>"
     },
     "execution_count": 13,
     "metadata": {},
     "output_type": "execute_result"
    }
   ],
   "source": [
    "df_customers.describe()"
   ],
   "metadata": {
    "collapsed": false,
    "pycharm": {
     "name": "#%%\n"
    }
   }
  },
  {
   "cell_type": "code",
   "execution_count": 32,
   "outputs": [
    {
     "data": {
      "text/plain": "<matplotlib.axes._subplots.AxesSubplot at 0xf1e4208>"
     },
     "execution_count": 32,
     "metadata": {},
     "output_type": "execute_result"
    },
    {
     "data": {
      "text/plain": "<Figure size 720x360 with 3 Axes>",
      "image/png": "[encoded data removed]"
     },
     "metadata": {
      "needs_background": "light"
     },
     "output_type": "display_data"
    }
   ],
   "source": [
    "import matplotlib.pyplot as plt\n",
    "# Plotting time\n",
    "fig, ax = plt.subplots(1, 3, figsize=(10, 5))\n",
    "df_customers.boxplot('R',ax=ax[0])\n",
    "df_customers.boxplot('F',ax=ax[1])\n",
    "df_customers.boxplot('M',ax=ax[2])\n"
   ],
   "metadata": {
    "collapsed": false,
    "pycharm": {
     "name": "#%%\n"
    }
   }
  },
  {
   "cell_type": "code",
   "execution_count": 20,
   "outputs": [
    {
     "name": "stdout",
     "output_type": "stream",
     "text": [
      "0.25     31.0\n",
      "0.50     76.0\n",
      "0.75    184.0\n",
      "Name: R, dtype: float64\n",
      "0.25    5.0\n",
      "0.50    6.0\n",
      "0.75    8.0\n",
      "Name: F, dtype: float64\n",
      "0.25    1145.0\n",
      "0.50    2257.0\n",
      "0.75    3784.0\n",
      "Name: M, dtype: float64\n"
     ]
    }
   ],
   "source": [
    "print(df_customers['R'].quantile([0.25, 0.5, 0.75]))\n",
    "print(df_customers['F'].quantile([0.25, 0.5, 0.75]))\n",
    "print(df_customers['M'].quantile([0.25, 0.5, 0.75]))"
   ],
   "metadata": {
    "collapsed": false,
    "pycharm": {
     "name": "#%%\n"
    }
   }
  },
  {
   "cell_type": "code",
   "execution_count": 21,
   "outputs": [],
   "source": [
    "def label_quantile(val, quantiles):\n",
    "    if val < quantiles[0]:\n",
    "        return 1\n",
    "    elif val < quantiles[1]:\n",
    "        return 2\n",
    "    elif val < quantiles[2]:\n",
    "        return 3\n",
    "    else:\n",
    "        return 4"
   ],
   "metadata": {
    "collapsed": false,
    "pycharm": {
     "name": "#%%\n"
    }
   }
  },
  {
   "cell_type": "code",
   "execution_count": 25,
   "outputs": [],
   "source": [
    "df_customers['R_score'] = df_customers['R'].apply(lambda x: label_quantile(x, df_customers['R'].quantile([0.25, 0.5, 0.75]).to_list()))\n",
    "df_customers['F_score'] = df_customers['F'].apply(lambda x: label_quantile(x, df_customers['F'].quantile([0.25, 0.5, 0.75]).to_list()))\n",
    "df_customers['M_score'] = df_customers['M'].apply(lambda x: label_quantile(x, df_customers['M'].quantile([0.25, 0.5, 0.75]).to_list()))"
   ],
   "metadata": {
    "collapsed": false,
    "pycharm": {
     "name": "#%%\n"
    }
   }
  },
  {
   "cell_type": "code",
   "execution_count": 28,
   "outputs": [
    {
     "data": {
      "text/plain": "<matplotlib.axes._subplots.AxesSubplot at 0xfb2b488>"
     },
     "execution_count": 28,
     "metadata": {},
     "output_type": "execute_result"
    },
    {
     "data": {
      "text/plain": "<Figure size 432x288 with 1 Axes>",
      "image/png": "[encoded data removed]"
     },
     "metadata": {
      "needs_background": "light"
     },
     "output_type": "display_data"
    }
   ],
   "source": [
    "df_customers['R_score'].hist()"
   ],
   "metadata": {
    "collapsed": false,
    "pycharm": {
     "name": "#%%\n"
    }
   }
  },
  {
   "cell_type": "code",
   "execution_count": 37,
   "outputs": [
    {
     "data": {
      "text/plain": "                    R_score  F_score  M_score\ncustomer                                     \nRandy Ferguson            4        4        3\nDavid Bremer              2        3        3\nChristine Kargatis        3        2        3\nBeth Thompson             4        2        3\nAaron Bergman             4        1        1\nShirley Schmidt           4        1        1\nRichard Bierner           1        4        3\nClay Rozendal             2        1        2\nCyra Reiten               3        1        2\nKatrina Edelman           1        4        2",
      "text/html": "<div>\n<style scoped>\n    .dataframe tbody tr th:only-of-type {\n        vertical-align: middle;\n    }\n\n    .dataframe tbody tr th {\n        vertical-align: top;\n    }\n\n    .dataframe thead th {\n        text-align: right;\n    }\n</style>\n<table border=\"1\" class=\"dataframe\">\n  <thead>\n    <tr style=\"text-align: right;\">\n      <th></th>\n      <th>R_score</th>\n      <th>F_score</th>\n      <th>M_score</th>\n    </tr>\n    <tr>\n      <th>customer</th>\n      <th></th>\n      <th></th>\n      <th></th>\n    </tr>\n  </thead>\n  <tbody>\n    <tr>\n      <th>Randy Ferguson</th>\n      <td>4</td>\n      <td>4</td>\n      <td>3</td>\n    </tr>\n    <tr>\n      <th>David Bremer</th>\n      <td>2</td>\n      <td>3</td>\n      <td>3</td>\n    </tr>\n    <tr>\n      <th>Christine Kargatis</th>\n      <td>3</td>\n      <td>2</td>\n      <td>3</td>\n    </tr>\n    <tr>\n      <th>Beth Thompson</th>\n      <td>4</td>\n      <td>2</td>\n      <td>3</td>\n    </tr>\n    <tr>\n      <th>Aaron Bergman</th>\n      <td>4</td>\n      <td>1</td>\n      <td>1</td>\n    </tr>\n    <tr>\n      <th>Shirley Schmidt</th>\n      <td>4</td>\n      <td>1</td>\n      <td>1</td>\n    </tr>\n    <tr>\n      <th>Richard Bierner</th>\n      <td>1</td>\n      <td>4</td>\n      <td>3</td>\n    </tr>\n    <tr>\n      <th>Clay Rozendal</th>\n      <td>2</td>\n      <td>1</td>\n      <td>2</td>\n    </tr>\n    <tr>\n      <th>Cyra Reiten</th>\n      <td>3</td>\n      <td>1</td>\n      <td>2</td>\n    </tr>\n    <tr>\n      <th>Katrina Edelman</th>\n      <td>1</td>\n      <td>4</td>\n      <td>2</td>\n    </tr>\n  </tbody>\n</table>\n</div>"
     },
     "execution_count": 37,
     "metadata": {},
     "output_type": "execute_result"
    }
   ],
   "source": [
    "df_customers[['R_score', 'F_score', 'M_score']].sample(10)"
   ],
   "metadata": {
    "collapsed": false,
    "pycharm": {
     "name": "#%%\n"
    }
   }
  },
  {
   "cell_type": "code",
   "execution_count": 34,
   "outputs": [
    {
     "data": {
      "text/plain": "                      R   F      M  R_score  F_score  M_score\ncustomer                                                     \nAaron Bergman       416   3    887        4        1        1\nAaron Hawkins        13   7   1744        1        3        2\nAaron Smayling       89   7   3050        3        3        3\nAdam Bellavance      55   8   7756        2        4        4\nAdam Hart            35  10   3249        2        4        3\nAdam Shillingsburg   29   9   3256        1        4        3\nAdrian Barton        42  10  14474        2        4        4\nAdrian Hane          61   7   1734        2        3        2\nAdrian Shami         42   2     59        2        1        1\nAimee Bixby          42   5    968        2        2        1",
      "text/html": "<div>\n<style scoped>\n    .dataframe tbody tr th:only-of-type {\n        vertical-align: middle;\n    }\n\n    .dataframe tbody tr th {\n        vertical-align: top;\n    }\n\n    .dataframe thead th {\n        text-align: right;\n    }\n</style>\n<table border=\"1\" class=\"dataframe\">\n  <thead>\n    <tr style=\"text-align: right;\">\n      <th></th>\n      <th>R</th>\n      <th>F</th>\n      <th>M</th>\n      <th>R_score</th>\n      <th>F_score</th>\n      <th>M_score</th>\n    </tr>\n    <tr>\n      <th>customer</th>\n      <th></th>\n      <th></th>\n      <th></th>\n      <th></th>\n      <th></th>\n      <th></th>\n    </tr>\n  </thead>\n  <tbody>\n    <tr>\n      <th>Aaron Bergman</th>\n      <td>416</td>\n      <td>3</td>\n      <td>887</td>\n      <td>4</td>\n      <td>1</td>\n      <td>1</td>\n    </tr>\n    <tr>\n      <th>Aaron Hawkins</th>\n      <td>13</td>\n      <td>7</td>\n      <td>1744</td>\n      <td>1</td>\n      <td>3</td>\n      <td>2</td>\n    </tr>\n    <tr>\n      <th>Aaron Smayling</th>\n      <td>89</td>\n      <td>7</td>\n      <td>3050</td>\n      <td>3</td>\n      <td>3</td>\n      <td>3</td>\n    </tr>\n    <tr>\n      <th>Adam Bellavance</th>\n      <td>55</td>\n      <td>8</td>\n      <td>7756</td>\n      <td>2</td>\n      <td>4</td>\n      <td>4</td>\n    </tr>\n    <tr>\n      <th>Adam Hart</th>\n      <td>35</td>\n      <td>10</td>\n      <td>3249</td>\n      <td>2</td>\n      <td>4</td>\n      <td>3</td>\n    </tr>\n    <tr>\n      <th>Adam Shillingsburg</th>\n      <td>29</td>\n      <td>9</td>\n      <td>3256</td>\n      <td>1</td>\n      <td>4</td>\n      <td>3</td>\n    </tr>\n    <tr>\n      <th>Adrian Barton</th>\n      <td>42</td>\n      <td>10</td>\n      <td>14474</td>\n      <td>2</td>\n      <td>4</td>\n      <td>4</td>\n    </tr>\n    <tr>\n      <th>Adrian Hane</th>\n      <td>61</td>\n      <td>7</td>\n      <td>1734</td>\n      <td>2</td>\n      <td>3</td>\n      <td>2</td>\n    </tr>\n    <tr>\n      <th>Adrian Shami</th>\n      <td>42</td>\n      <td>2</td>\n      <td>59</td>\n      <td>2</td>\n      <td>1</td>\n      <td>1</td>\n    </tr>\n    <tr>\n      <th>Aimee Bixby</th>\n      <td>42</td>\n      <td>5</td>\n      <td>968</td>\n      <td>2</td>\n      <td>2</td>\n      <td>1</td>\n    </tr>\n  </tbody>\n</table>\n</div>"
     },
     "execution_count": 34,
     "metadata": {},
     "output_type": "execute_result"
    }
   ],
   "source": [
    "df_customers.head(10)"
   ],
   "metadata": {
    "collapsed": false,
    "pycharm": {
     "name": "#%%\n"
    }
   }
  },
  {
   "cell_type": "code",
   "execution_count": 36,
   "outputs": [
    {
     "data": {
      "text/plain": "                  R   F     M  R_score  F_score  M_score\ncustomer                                                \nAlan Dominguez   30   8  6107        1        4        4\nAlan Hwang        7   9  4806        1        4        4\nAnnie Thurman    14  10  3831        1        4        4\nArianne Irving   14  10  4376        1        4        4\nBen Ferrer       17  11  5907        1        4        4\nBrenda Bowman    29   9  6766        1        4        4\nBrosina Hoffman  24   8  6255        1        4        4\nChris Cortes     21  12  3913        1        4        4\nDan Reichenbach   4   9  6528        1        4        4\nDean Katz        11   9  4801        1        4        4",
      "text/html": "<div>\n<style scoped>\n    .dataframe tbody tr th:only-of-type {\n        vertical-align: middle;\n    }\n\n    .dataframe tbody tr th {\n        vertical-align: top;\n    }\n\n    .dataframe thead th {\n        text-align: right;\n    }\n</style>\n<table border=\"1\" class=\"dataframe\">\n  <thead>\n    <tr style=\"text-align: right;\">\n      <th></th>\n      <th>R</th>\n      <th>F</th>\n      <th>M</th>\n      <th>R_score</th>\n      <th>F_score</th>\n      <th>M_score</th>\n    </tr>\n    <tr>\n      <th>customer</th>\n      <th></th>\n      <th></th>\n      <th></th>\n      <th></th>\n      <th></th>\n      <th></th>\n    </tr>\n  </thead>\n  <tbody>\n    <tr>\n      <th>Alan Dominguez</th>\n      <td>30</td>\n      <td>8</td>\n      <td>6107</td>\n      <td>1</td>\n      <td>4</td>\n      <td>4</td>\n    </tr>\n    <tr>\n      <th>Alan Hwang</th>\n      <td>7</td>\n      <td>9</td>\n      <td>4806</td>\n      <td>1</td>\n      <td>4</td>\n      <td>4</td>\n    </tr>\n    <tr>\n      <th>Annie Thurman</th>\n      <td>14</td>\n      <td>10</td>\n      <td>3831</td>\n      <td>1</td>\n      <td>4</td>\n      <td>4</td>\n    </tr>\n    <tr>\n      <th>Arianne Irving</th>\n      <td>14</td>\n      <td>10</td>\n      <td>4376</td>\n      <td>1</td>\n      <td>4</td>\n      <td>4</td>\n    </tr>\n    <tr>\n      <th>Ben Ferrer</th>\n      <td>17</td>\n      <td>11</td>\n      <td>5907</td>\n      <td>1</td>\n      <td>4</td>\n      <td>4</td>\n    </tr>\n    <tr>\n      <th>Brenda Bowman</th>\n      <td>29</td>\n      <td>9</td>\n      <td>6766</td>\n      <td>1</td>\n      <td>4</td>\n      <td>4</td>\n    </tr>\n    <tr>\n      <th>Brosina Hoffman</th>\n      <td>24</td>\n      <td>8</td>\n      <td>6255</td>\n      <td>1</td>\n      <td>4</td>\n      <td>4</td>\n    </tr>\n    <tr>\n      <th>Chris Cortes</th>\n      <td>21</td>\n      <td>12</td>\n      <td>3913</td>\n      <td>1</td>\n      <td>4</td>\n      <td>4</td>\n    </tr>\n    <tr>\n      <th>Dan Reichenbach</th>\n      <td>4</td>\n      <td>9</td>\n      <td>6528</td>\n      <td>1</td>\n      <td>4</td>\n      <td>4</td>\n    </tr>\n    <tr>\n      <th>Dean Katz</th>\n      <td>11</td>\n      <td>9</td>\n      <td>4801</td>\n      <td>1</td>\n      <td>4</td>\n      <td>4</td>\n    </tr>\n  </tbody>\n</table>\n</div>"
     },
     "execution_count": 36,
     "metadata": {},
     "output_type": "execute_result"
    }
   ],
   "source": [
    "df_customers.sort_values(by=['M_score', 'F_score', 'R_score'], ascending=[False, False, True]).head(10)"
   ],
   "metadata": {
    "collapsed": false,
    "pycharm": {
     "name": "#%%\n"
    }
   }
  },
  {
   "cell_type": "code",
   "execution_count": null,
   "outputs": [],
   "source": [
    "\n"
   ],
   "metadata": {
    "collapsed": false,
    "pycharm": {
     "name": "#%%\n"
    }
   }
  }
 ],
 "metadata": {
  "kernelspec": {
   "name": "python3",
   "language": "python",
   "display_name": "Python 3"
  },
  "language_info": {
   "codemirror_mode": {
    "name": "ipython",
    "version": 2
   },
   "file_extension": ".py",
   "mimetype": "text/x-python",
   "name": "python",
   "nbconvert_exporter": "python",
   "pygments_lexer": "ipython2",
   "version": "2.7.6"
  }
 },
 "nbformat": 4,
 "nbformat_minor": 0
}